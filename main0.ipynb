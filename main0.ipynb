{
 "cells": [
  {
   "cell_type": "code",
   "execution_count": 28,
   "metadata": {},
   "outputs": [],
   "source": [
    "import pandas as pd\n",
    "\n",
    "df_zh_no_header = pd.read_csv('/home/edward/Documents/anan_car/dataset/car_UTF8.csv')\n"
   ]
  },
  {
   "cell_type": "code",
   "execution_count": null,
   "metadata": {},
   "outputs": [],
   "source": [
    "# # 首先读取并查看所有唯一值\n",
    "# unique_values = {}\n",
    "\n",
    "# # 遍历每一列，收集所有唯一值\n",
    "# for column in df_zh_no_header.columns:\n",
    "#     unique_values[column] = df_zh_no_header[column].dropna().unique().tolist()\n",
    "\n",
    "# # 打印所有需要翻译的值，以便创建字典\n",
    "# print(\"需要翻译的内容：\")\n",
    "# for column, values in unique_values.items():\n",
    "#     print(f\"\\n{column}列的唯一值：\")\n",
    "#     print(values)"
   ]
  },
  {
   "cell_type": "markdown",
   "metadata": {},
   "source": [
    "# 中文表格：插入一行表头"
   ]
  },
  {
   "cell_type": "code",
   "execution_count": 29,
   "metadata": {},
   "outputs": [],
   "source": [
    "# new one\n",
    "df_zh_with_header = df_zh_no_header\n",
    "# 添加新的表头\n",
    "df_zh_with_header.columns = ['省份', '品牌', '日期', '车型', '城市', '上牌数量', '车型级别', '价格区间', '燃料类型']\n",
    "# print(df_zh_with_header.head())\n",
    "# 将修改后的DataFrame保存回CSV文件，覆盖原始文件\n",
    "# df_zh_with_header.to_csv('/home/edward/Documents/anan_car/dataset/car_UTF8_zh_with_header.csv', index=False)"
   ]
  },
  {
   "cell_type": "markdown",
   "metadata": {},
   "source": [
    "# 中文表格：日期转换为标准格式"
   ]
  },
  {
   "cell_type": "code",
   "execution_count": 30,
   "metadata": {},
   "outputs": [
    {
     "name": "stdout",
     "output_type": "stream",
     "text": [
      "   省份  品牌          日期          车型  城市  上牌数量  车型级别         价格区间 燃料类型\n",
      "0  北京  大众  2022-06-01  ID.4 CROZZ  北京   847   SUV  18.73-28.73   燃油\n",
      "1  北京  大众  2022-06-01          迈腾  北京   854   中型车  18.69-30.99   燃油\n",
      "2  北京  大众  2022-06-01          探岳  北京   483   SUV  20.49-26.49   燃油\n",
      "3  北京  大众  2022-06-01          宝来  北京   436  紧凑型车   9.88-15.70   燃油\n",
      "4  北京  大众  2022-06-01         途观L  北京   552   SUV  19.90-28.38   燃油\n"
     ]
    }
   ],
   "source": [
    "# 首先，你需要确保日期列是字符串类型\n",
    "df_zh_with_header['日期'] = df_zh_with_header['日期'].astype(str)\n",
    "# 使用pd.to_datetime将日期字符串转换为日期时间对象\n",
    "# format参数指定了原始日期字符串的格式\n",
    "df_zh_with_header['日期'] = pd.to_datetime(df_zh_with_header['日期'], format='%Y年%m月')\n",
    "# 将日期时间对象转换回字符串，格式为'YYYY-MM-DD'\n",
    "df_zh_with_header['日期'] = df_zh_with_header['日期'].dt.strftime('%Y-%m-%d')\n",
    "# 查看转换后的结果\n",
    "print(df_zh_with_header.head())"
   ]
  },
  {
   "cell_type": "markdown",
   "metadata": {},
   "source": [
    "# 中文表格：省份转换为拼音"
   ]
  },
  {
   "cell_type": "code",
   "execution_count": null,
   "metadata": {},
   "outputs": [],
   "source": [
    "# from pypinyin import lazy_pinyin\n",
    "# # 中文表格：省份转换为拼音\n",
    "# columns_to_translate = ['省份', '品牌', '车型', '城市', '车型级别', '燃料类型']\n",
    "# for column in columns_to_translate:\n",
    "#     df_zh_with_header[column] = df_zh_with_header[column].apply(lambda x: lazy_pinyin(x))\n",
    "# print(df_zh_with_header.head())\n"
   ]
  },
  {
   "cell_type": "markdown",
   "metadata": {},
   "source": [
    "# 英文表格：翻译[暂时不用]\n",
    "理想、问界、岚图FREE、哪吒S、深蓝SL03、零跑C11是增程\n",
    "from translate_util.translate_tool import translate_other2cn,translate_other2en,translate_text  \n",
    "  \n",
    "将其他语言翻译成中文 (default use google)  \n",
    "print(translate_other2cn('china'))  \n",
    "  \n",
    "将其它语言翻译成英文 (default use google)  \n",
    "print(translate_other2en('中国'))  \n",
    "  \n",
    "支持任意语言之间互相翻译,tl待翻译的语言\n",
    "tl demo: zh-CN/de/fr/en/it/es  \n",
    "print(translate_text('china', tl='de'))"
   ]
  },
  {
   "cell_type": "markdown",
   "metadata": {},
   "source": [
    "# 价格区间处理"
   ]
  },
  {
   "cell_type": "code",
   "execution_count": 31,
   "metadata": {},
   "outputs": [
    {
     "name": "stdout",
     "output_type": "stream",
     "text": [
      "   省份  品牌          日期          车型  城市  上牌数量  车型级别  价格区间 燃料类型\n",
      "0  北京  大众  2022-06-01  ID.4 CROZZ  北京   847   SUV    24   燃油\n",
      "1  北京  大众  2022-06-01          迈腾  北京   854   中型车    25   燃油\n",
      "2  北京  大众  2022-06-01          探岳  北京   483   SUV    23   燃油\n",
      "3  北京  大众  2022-06-01          宝来  北京   436  紧凑型车    13   燃油\n",
      "4  北京  大众  2022-06-01         途观L  北京   552   SUV    24   燃油\n",
      "5  北京  大众  2022-06-01         高尔夫  北京   514  紧凑型车    18   燃油\n",
      "6  北京  大众  2022-06-01      ID.4 X  北京   423   SUV    24   燃油\n",
      "7  北京  大众  2022-06-01  ID.6 CROZZ  北京   266   SUV    29   燃油\n",
      "8  北京  大众  2022-06-01          途昂  北京   495   SUV    35   燃油\n",
      "9  北京  大众  2022-06-01          速腾  北京   187  紧凑型车    15   燃油\n"
     ]
    }
   ],
   "source": [
    "# 原始价格的范围取中位数，取整数\n",
    "df_zh_with_header['价格区间'] = df_zh_with_header['价格区间'].apply(lambda x: round((float(x.split('-')[0]) + float(x.split('-')[1])) / 2))\n",
    "print(df_zh_with_header.head(10))\n"
   ]
  },
  {
   "cell_type": "markdown",
   "metadata": {},
   "source": [
    "# 数据清洗-去掉上牌数量为0的行\n"
   ]
  },
  {
   "cell_type": "code",
   "execution_count": 36,
   "metadata": {},
   "outputs": [
    {
     "name": "stdout",
     "output_type": "stream",
     "text": [
      "价格区间为0的行数: 0\n"
     ]
    }
   ],
   "source": [
    "# count_plate_zero = df_zh_with_header[df_zh_with_header['上牌数量'] == 0].shape[0]\n",
    "# print(f\"上牌数量为0的行数: {count_plate_zero}\")\n",
    "\n",
    "# count_price_zero = df_zh_with_header[df_zh_with_header['价格区间'] == 0].shape[0]\n",
    "# print(f\"价格区间为0的行数: {count_price_zero}\")\n",
    "# 把价格区间为0的行显示出来\n",
    "# print(df_zh_with_header[df_zh_with_header['价格区间'] == 0])\n",
    "# 检查价格区间每一行是否存在空值\n",
    "# print(df_zh_with_header[df_zh_with_header['价格区间'].isnull()])\n",
    "# 过滤掉价格区间为0的行\n",
    "df_zh_with_header_cleaned_zero = df_zh_with_header[df_zh_with_header['价格区间'] != 0]\n",
    "count_price_zero = df_zh_with_header_cleaned_zero[df_zh_with_header_cleaned_zero['价格区间'] == 0].shape[0]\n",
    "print(f\"处理好价格区间为0的行数: {count_price_zero}\")\n",
    "# print(df_zh_with_header_cleaned_zero.head(10))\n",
    "\n"
   ]
  },
  {
   "cell_type": "markdown",
   "metadata": {},
   "source": [
    "# 价格分布"
   ]
  },
  {
   "cell_type": "code",
   "execution_count": null,
   "metadata": {},
   "outputs": [],
   "source": [
    "import matplotlib.pyplot as plt\n",
    "\n",
    "# 全部\n",
    "print(f\"全部车的数量: {len(df_zh_with_header_cleaned_zero['价格区间'])}\")\n",
    "\n",
    "\n",
    "# 筛选出燃油车型的数据\n",
    "df_fuel = df_zh_with_header_cleaned_zero[df_zh_with_header_cleaned_zero['燃料类型'] == '燃油']\n",
    "print(f\"燃油车的数量: {len(df_fuel['价格区间'])}\")\n",
    "\n",
    "# 筛选出纯电动车型的数据\n",
    "df_electric = df_zh_with_header_cleaned_zero[df_zh_with_header_cleaned_zero['燃料类型'] == '纯电']\n",
    "print(f\"纯电动车的数量: {len(df_electric['价格区间'])}\")\n",
    "\n",
    "# 筛选出混动车型的数据\n",
    "df_hybrid = df_zh_with_header_cleaned_zero[df_zh_with_header_cleaned_zero['燃料类型'] == '混动']\n",
    "print(f\"混动车的数量: {len(df_hybrid['价格区间'])}\")\n",
    "\n",
    "# # 绘制燃油型的价格区间分布\n",
    "plt.figure(figsize=(15, 6))\n",
    "plt.subplot(1,3,1)\n",
    "plt.hist(df_fuel['价格区间'], bins=100, alpha=0.7, label='fuel', color='blue', edgecolor='black')\n",
    "plt.title('fuel price distirbution')\n",
    "plt.xlabel('price')\n",
    "plt.ylabel('count')\n",
    "plt.legend()\n",
    "plt.plot()\n",
    "\n",
    "# # 绘制纯电动车型的价格区间分布\n",
    "plt.subplot(1,3,2)\n",
    "plt.hist(df_electric['价格区间'], bins=100, alpha=0.7, label='EV', color='red', edgecolor='black')\n",
    "plt.title('EV price distirbution')\n",
    "plt.xlabel('price')\n",
    "plt.ylabel('count')\n",
    "plt.legend()\n",
    "plt.plot()\n",
    "\n",
    "# # 绘制混动车型的价格区间分布\n",
    "plt.subplot(1,3,3)\n",
    "plt.hist(df_hybrid['价格区间'], bins=100, alpha=0.7, label='FEV', color='green', edgecolor='black')\n",
    "plt.title('FEV price distirbution')\n",
    "plt.xlabel('price')\n",
    "plt.ylabel('count')\n",
    "plt.legend()\n",
    "plt.plot()\n",
    "plt.tight_layout()\n",
    "plt.show()\n",
    "# print(matplotlib.matplotlib_fname())  # 打印配置文件位置"
   ]
  },
  {
   "cell_type": "markdown",
   "metadata": {},
   "source": [
    "# 价格区间划分"
   ]
  },
  {
   "cell_type": "code",
   "execution_count": 82,
   "metadata": {},
   "outputs": [
    {
     "name": "stdout",
     "output_type": "stream",
     "text": [
      "燃油车型 - 密集区间: 15.0 到 31.0\n",
      "燃油车型 - 稀疏区间: 小于 15.0 或大于 31.0\n",
      "纯电车型 - 密集区间: 11.0 到 22.0\n",
      "纯电车型 - 稀疏区间: 小于 11.0 或大于 22.0\n",
      "混动车型 - 密集区间: 11.0 到 22.0\n",
      "混动车型 - 稀疏区间: 小于 11.0 或大于 22.0\n"
     ]
    }
   ],
   "source": [
    "import numpy as np\n",
    "\n",
    "# 假设我们使用四分位数来粗略估计密集区间\n",
    "def define_price_ranges(data, label):\n",
    "    q1 = np.percentile(data, 25)\n",
    "    median = np.median(data)\n",
    "    q3 = np.percentile(data, 75)\n",
    "    print(f\"{label} - 密集区间: {q1} 到 {q3}\")\n",
    "    print(f\"{label} - 稀疏区间: 小于 {q1} 或大于 {q3}\")\n",
    "\n",
    "# 根据上面的代码，提取三个类别价格区间数据\n",
    "fuel_prices = df_fuel['价格区间'].values\n",
    "ev_prices = df_electric['价格区间'].values\n",
    "fev_prices = df_hybrid['价格区间'].values\n",
    "\n",
    "# 计算价格区间\n",
    "define_price_ranges(fuel_prices, \"燃油车型\")\n",
    "define_price_ranges(ev_prices, \"纯电车型\")\n",
    "define_price_ranges(fev_prices, \"混动车型\")"
   ]
  },
  {
   "cell_type": "markdown",
   "metadata": {},
   "source": [
    "# 剥离插电混动和增程"
   ]
  },
  {
   "cell_type": "code",
   "execution_count": 85,
   "metadata": {},
   "outputs": [
    {
     "name": "stdout",
     "output_type": "stream",
     "text": [
      "在车型包含'理想'的记录中，存在燃料类型为'纯电'的情况。\n",
      "312         True\n",
      "1095        True\n",
      "1474        True\n",
      "2670        True\n",
      "2671        True\n",
      "           ...  \n",
      "2501137     True\n",
      "2501138     True\n",
      "2501139     True\n",
      "2501140    False\n",
      "2501141    False\n",
      "Name: 燃料类型, Length: 7140, dtype: bool\n"
     ]
    }
   ],
   "source": [
    "# 筛选出车型中包含“理想”字段的行\n",
    "df_ideal = df_zh_with_header_cleaned_zero[df_zh_with_header_cleaned_zero['车型'].str.contains('理想', na=False)]\n",
    "\n",
    "# 检查这些行中是否有“燃料类型”为“纯电”的\n",
    "has_pure_electric = df_ideal['燃料类型'].str.contains('纯电').any()\n",
    "\n",
    "if has_pure_electric:\n",
    "    print(\"在车型包含'理想'的记录中，存在燃料类型为'纯电'的情况。\")\n",
    "    print(df_ideal['燃料类型'].str.contains('纯电'))\n",
    "else:\n",
    "    print(\"在车型包含'理想'的记录中，没有找到燃料类型为'纯电'。\")"
   ]
  }
 ],
 "metadata": {
  "kernelspec": {
   "display_name": "pt0",
   "language": "python",
   "name": "python3"
  },
  "language_info": {
   "codemirror_mode": {
    "name": "ipython",
    "version": 3
   },
   "file_extension": ".py",
   "mimetype": "text/x-python",
   "name": "python",
   "nbconvert_exporter": "python",
   "pygments_lexer": "ipython3",
   "version": "3.8.10"
  }
 },
 "nbformat": 4,
 "nbformat_minor": 2
}
